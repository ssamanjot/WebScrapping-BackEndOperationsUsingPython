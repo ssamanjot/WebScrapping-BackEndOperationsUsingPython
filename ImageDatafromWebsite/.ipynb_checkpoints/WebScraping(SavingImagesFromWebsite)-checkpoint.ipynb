{
 "cells": [
  {
   "cell_type": "code",
   "execution_count": 11,
   "metadata": {},
   "outputs": [],
   "source": [
    "import requests"
   ]
  },
  {
   "cell_type": "code",
   "execution_count": 12,
   "metadata": {},
   "outputs": [],
   "source": [
    "from bs4 import BeautifulSoup as bs\n"
   ]
  },
  {
   "cell_type": "code",
   "execution_count": null,
   "metadata": {},
   "outputs": [],
   "source": [
    "for k in range(1,201):\n",
    "    try:\n",
    "        a=requests.get(\"https://xkcd.com/\"+str(k)+\"/\")\n",
    "    except:\n",
    "        time.sleep(20)\n",
    "    soup=bs(a.content)\n",
    "    p=soup.find(id=\"comic\")\n",
    "    ImgUrl=p.img['src']\n",
    "    ImgNm=soup.find(id=\"ctitle\").string\n",
    "    ImgNm=ImgNm.replace(\" \",\"\")\n",
    "    c=requests.get(\"https:\"+ImgUrl)\n",
    "    with open(ImgNm+\".png\",\"wb\") as test_file:\n",
    "        test_file.write(c.content)\n",
    "    "
   ]
  },
  {
   "cell_type": "code",
   "execution_count": 39,
   "metadata": {},
   "outputs": [],
   "source": []
  },
  {
   "cell_type": "code",
   "execution_count": 40,
   "metadata": {},
   "outputs": [],
   "source": []
  },
  {
   "cell_type": "code",
   "execution_count": 41,
   "metadata": {},
   "outputs": [],
   "source": [
    "\n"
   ]
  },
  {
   "cell_type": "code",
   "execution_count": 42,
   "metadata": {},
   "outputs": [],
   "source": []
  },
  {
   "cell_type": "code",
   "execution_count": null,
   "metadata": {},
   "outputs": [],
   "source": []
  },
  {
   "cell_type": "code",
   "execution_count": null,
   "metadata": {},
   "outputs": [],
   "source": []
  }
 ],
 "metadata": {
  "kernelspec": {
   "display_name": "Python 3",
   "language": "python",
   "name": "python3"
  },
  "language_info": {
   "codemirror_mode": {
    "name": "ipython",
    "version": 3
   },
   "file_extension": ".py",
   "mimetype": "text/x-python",
   "name": "python",
   "nbconvert_exporter": "python",
   "pygments_lexer": "ipython3",
   "version": "3.7.3"
  }
 },
 "nbformat": 4,
 "nbformat_minor": 2
}
